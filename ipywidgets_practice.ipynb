{
 "cells": [
  {
   "cell_type": "code",
   "execution_count": null,
   "id": "1f7e825a",
   "metadata": {},
   "outputs": [],
   "source": [
    "import ipywidgets as widgets\n",
    "from IPython.display import display"
   ]
  },
  {
   "cell_type": "markdown",
   "id": "ec67334c",
   "metadata": {},
   "source": [
    "### Numeric widgets\n",
    "- 숫자값을 표시하게 설계된 위젯\n",
    "- Int,Float,Floating,IntRange,FloatRange"
   ]
  },
  {
   "cell_type": "markdown",
   "id": "f62c4166",
   "metadata": {},
   "source": [
    "### Slider\n",
    "- Int값을 움직일 수 있는 슬라이더\n"
   ]
  },
  {
   "cell_type": "code",
   "execution_count": 6,
   "id": "09e374bc",
   "metadata": {},
   "outputs": [
    {
     "data": {
      "application/vnd.jupyter.widget-view+json": {
       "model_id": "5c6673b65a094e8a821c3b7439d43be5",
       "version_major": 2,
       "version_minor": 0
      },
      "text/plain": [
       "IntSlider(value=0)"
      ]
     },
     "metadata": {},
     "output_type": "display_data"
    }
   ],
   "source": [
    "widgets.IntSlider()"
   ]
  },
  {
   "cell_type": "code",
   "execution_count": 5,
   "id": "33a0e5e4",
   "metadata": {},
   "outputs": [
    {
     "data": {
      "application/vnd.jupyter.widget-view+json": {
       "model_id": "9f39451b53074ed7b3e7ec2c44f38bd8",
       "version_major": 2,
       "version_minor": 0
      },
      "text/plain": [
       "IntSlider(value=0)"
      ]
     },
     "metadata": {},
     "output_type": "display_data"
    }
   ],
   "source": [
    "int_slider = widgets.IntSlider()\n",
    "display(int_slider)"
   ]
  },
  {
   "cell_type": "code",
   "execution_count": 7,
   "id": "5761031c",
   "metadata": {},
   "outputs": [
    {
     "data": {
      "application/vnd.jupyter.widget-view+json": {
       "model_id": "124a273b63ee45abaffdb89aae906dcc",
       "version_major": 2,
       "version_minor": 0
      },
      "text/plain": [
       "IntSlider(value=7, description='Value:  ', max=10)"
      ]
     },
     "metadata": {},
     "output_type": "display_data"
    }
   ],
   "source": [
    "widgets.IntSlider(\n",
    "    value=7,\n",
    "    min=0,\n",
    "    max=10,\n",
    "    step=1,\n",
    "    orientation = 'horizontal',\n",
    "    description = 'Value:  ',\n",
    ")"
   ]
  },
  {
   "cell_type": "code",
   "execution_count": 8,
   "id": "67cb8520",
   "metadata": {},
   "outputs": [
    {
     "data": {
      "application/vnd.jupyter.widget-view+json": {
       "model_id": "2cc4b1f04bdf4658bb5ce2ab32bfda45",
       "version_major": 2,
       "version_minor": 0
      },
      "text/plain": [
       "FloatSlider(value=0.0)"
      ]
     },
     "metadata": {},
     "output_type": "display_data"
    }
   ],
   "source": [
    "widgets.FloatSlider()"
   ]
  },
  {
   "cell_type": "code",
   "execution_count": 11,
   "id": "d044b6c0",
   "metadata": {},
   "outputs": [
    {
     "data": {
      "application/vnd.jupyter.widget-view+json": {
       "model_id": "19c3e53de3184d43a2d225c4da555008",
       "version_major": 2,
       "version_minor": 0
      },
      "text/plain": [
       "IntRangeSlider(value=(3, 5), description='Int Range:        ', max=10)"
      ]
     },
     "metadata": {},
     "output_type": "display_data"
    }
   ],
   "source": [
    "widgets.IntRangeSlider(\n",
    "    value = [3,5],\n",
    "    min = 0,\n",
    "    max = 10,\n",
    "    step = 1,\n",
    "    description = \"Int Range:        \")"
   ]
  },
  {
   "cell_type": "markdown",
   "id": "af89727c",
   "metadata": {},
   "source": [
    "### Widget의 Value 수정하기"
   ]
  },
  {
   "cell_type": "code",
   "execution_count": 14,
   "id": "a58c9168",
   "metadata": {},
   "outputs": [
    {
     "data": {
      "application/vnd.jupyter.widget-view+json": {
       "model_id": "fbd831728207408f850a0e0606f37acc",
       "version_major": 2,
       "version_minor": 0
      },
      "text/plain": [
       "IntSlider(value=7, max=10)"
      ]
     },
     "metadata": {},
     "output_type": "display_data"
    }
   ],
   "source": [
    "int_widget = widgets.IntSlider(\n",
    "    value = 7,\n",
    "    min= 0,\n",
    "    max= 10,\n",
    "    step = 1,\n",
    "    orientation = 'horizontal' ,\n",
    "    descriptio = 'Value:',\n",
    "    )\n",
    "display(int_widget)"
   ]
  },
  {
   "cell_type": "markdown",
   "id": "675414c2",
   "metadata": {},
   "source": [
    "argument 틀리면 틀린 부분만 안나옴\n",
    "\n",
    "ex)\n",
    "descriptio = 'Value: '  "
   ]
  },
  {
   "cell_type": "code",
   "execution_count": 24,
   "id": "f995df30",
   "metadata": {},
   "outputs": [
    {
     "data": {
      "application/vnd.jupyter.widget-view+json": {
       "model_id": "0e4dee6bf5d64214bb38bf806f566e29",
       "version_major": 2,
       "version_minor": 0
      },
      "text/plain": [
       "IntSlider(value=7, description='Value:', max=10)"
      ]
     },
     "metadata": {},
     "output_type": "display_data"
    }
   ],
   "source": [
    "int_widget = widgets.IntSlider(\n",
    "    value = 7,\n",
    "    min= 0,\n",
    "    max= 10,\n",
    "    step = 1,\n",
    "    orientation = 'horizontal' ,\n",
    "    description = 'Value:',\n",
    "    )\n",
    "display(int_widget)"
   ]
  },
  {
   "cell_type": "code",
   "execution_count": 16,
   "id": "cec52943",
   "metadata": {},
   "outputs": [
    {
     "data": {
      "text/plain": [
       "7"
      ]
     },
     "execution_count": 16,
     "metadata": {},
     "output_type": "execute_result"
    }
   ],
   "source": [
    "int_widget.value"
   ]
  },
  {
   "cell_type": "code",
   "execution_count": 41,
   "id": "fd007e86",
   "metadata": {},
   "outputs": [],
   "source": [
    "int_widget.value=8"
   ]
  },
  {
   "cell_type": "markdown",
   "id": "5c277796",
   "metadata": {},
   "source": [
    "int_widget.value를 바꿀 때 마다 interactive 하게 바뀜"
   ]
  },
  {
   "cell_type": "code",
   "execution_count": 23,
   "id": "afed2b5c",
   "metadata": {},
   "outputs": [],
   "source": [
    "int_widget.orientation = 'vertical'"
   ]
  },
  {
   "cell_type": "markdown",
   "id": "efe4c0e8",
   "metadata": {},
   "source": [
    "orientation은 argument가 horizontal, vertical이 아닐 경우 error발생\n",
    "TraitError: The 'orientation' trait of an IntSlider instance expected any of ['horizontal', 'vertical'] (case-insensitive), not the str 'vercal'.\n"
   ]
  },
  {
   "cell_type": "markdown",
   "id": "19d0bb67",
   "metadata": {},
   "source": [
    "### Text\n",
    "- input Box의 형태 \n",
    "- Bounded 가 들어간 함수는 제한이 존재\n",
    "- Bounded가 없으면 제한 없음"
   ]
  },
  {
   "cell_type": "code",
   "execution_count": 32,
   "id": "4e0875ed",
   "metadata": {},
   "outputs": [],
   "source": [
    "from collections import deque"
   ]
  },
  {
   "cell_type": "code",
   "execution_count": 48,
   "id": "e68c0063",
   "metadata": {},
   "outputs": [],
   "source": [
    "de = \"2425\"\n",
    "de = de.encode('euc-kr')"
   ]
  },
  {
   "cell_type": "code",
   "execution_count": 60,
   "id": "5b3963a5",
   "metadata": {},
   "outputs": [],
   "source": [
    "de = b'123'"
   ]
  },
  {
   "cell_type": "code",
   "execution_count": 61,
   "id": "eed04d46",
   "metadata": {},
   "outputs": [
    {
     "data": {
      "application/vnd.jupyter.widget-view+json": {
       "model_id": "268bdce81551476992cc38d9330abc39",
       "version_major": 2,
       "version_minor": 0
      },
      "text/plain": [
       "BoundedIntText(value=123, description='Text:', max=10000)"
      ]
     },
     "metadata": {},
     "output_type": "display_data"
    }
   ],
   "source": [
    "widgets.BoundedIntText(\n",
    "    value = de,\n",
    "    min = 0,\n",
    "    max= 10000,\n",
    "    step = 1 ,\n",
    "    description = 'Text:' ,\n",
    "    disabled= False)"
   ]
  },
  {
   "cell_type": "markdown",
   "id": "a9a8248e",
   "metadata": {},
   "source": [
    "#### BoundedIntText\n",
    "value:string- > int로 typepcasting\n",
    "value: float -> 0\n",
    "bool : True ->1 , False -> 0\n",
    "\n",
    "#### assign 할수 있는 type은 다 되는가?\n",
    "\n",
    "int() argument must be a string, a bytes-like object or a number,\n",
    "numeric type이 들어가면 error발생은 안하는듯\n",
    "\n",
    "#### encode\n",
    "\n",
    "\"안녕\" 을 encoding 후 대입하였으나 , 안됨\n",
    "\n",
    "ValueError: invalid literal for int() with base 10: b'\\xec\\x95\\x88\\xeb\\x85\\x95'   \n",
    "\n",
    "\n",
    "\n",
    "\n",
    "\n",
    "123 를 binary 로 encoding 후 대입\n",
    "\n",
    "b'123'\n",
    "\n",
    "결과는 123\n",
    "\n",
    "numeric type의 bytes-like object면 다 되는듯 "
   ]
  },
  {
   "cell_type": "code",
   "execution_count": 46,
   "id": "9e9304d7",
   "metadata": {},
   "outputs": [
    {
     "name": "stdout",
     "output_type": "stream",
     "text": [
      "b'2425'\n"
     ]
    }
   ],
   "source": [
    "asd =b'2425'\n",
    "print(asd)"
   ]
  },
  {
   "cell_type": "code",
   "execution_count": 47,
   "id": "85fc096e",
   "metadata": {},
   "outputs": [
    {
     "name": "stdout",
     "output_type": "stream",
     "text": [
      "2425\n"
     ]
    }
   ],
   "source": [
    "print(asd.decode())"
   ]
  },
  {
   "cell_type": "code",
   "execution_count": 52,
   "id": "1c1a14d3",
   "metadata": {},
   "outputs": [
    {
     "data": {
      "application/vnd.jupyter.widget-view+json": {
       "model_id": "5705bd51552f41c6bda69839dcecc884",
       "version_major": 2,
       "version_minor": 0
      },
      "text/plain": [
       "IntText(value=7, description='Any: ', disabled=True)"
      ]
     },
     "metadata": {},
     "output_type": "display_data"
    }
   ],
   "source": [
    "widgets.IntText(\n",
    "    value = 7,\n",
    "    description = 'Any: ',\n",
    "    disabled = True\n",
    ")"
   ]
  },
  {
   "cell_type": "markdown",
   "id": "1c127b82",
   "metadata": {},
   "source": [
    "disabled는 무슨기능인 아직은 모르겟음"
   ]
  },
  {
   "cell_type": "code",
   "execution_count": 54,
   "id": "2d4be403",
   "metadata": {},
   "outputs": [
    {
     "data": {
      "application/vnd.jupyter.widget-view+json": {
       "model_id": "726c1d75a3654b08bf19cf3c5e19090b",
       "version_major": 2,
       "version_minor": 0
      },
      "text/plain": [
       "BoundedIntText(value=19, description='Test : ', disabled=True, max=19)"
      ]
     },
     "metadata": {},
     "output_type": "display_data"
    }
   ],
   "source": [
    "bounded_widget=  widgets.BoundedIntText(\n",
    "    value = 200,\n",
    "    min = 0,\n",
    "    max = 19,\n",
    "    step = 1 ,\n",
    "    description = 'Test : ' ,\n",
    "    disabled= True\n",
    "    )\n",
    "\n",
    "display(bounded_widget)"
   ]
  },
  {
   "cell_type": "markdown",
   "id": "6ca28f3f",
   "metadata": {},
   "source": [
    "max 넘어가는 값들은 rule-based로 max로 리턴됨"
   ]
  },
  {
   "cell_type": "code",
   "execution_count": 56,
   "id": "7f42eeec",
   "metadata": {},
   "outputs": [
    {
     "data": {
      "text/plain": [
       "19"
      ]
     },
     "execution_count": 56,
     "metadata": {},
     "output_type": "execute_result"
    }
   ],
   "source": [
    "bounded_widget.value"
   ]
  },
  {
   "cell_type": "markdown",
   "id": "bb180589",
   "metadata": {},
   "source": [
    "value에 200이라는 값을 pass 해줬지만, 내부에서 value는 변하게 된다.\n"
   ]
  },
  {
   "cell_type": "markdown",
   "id": "7fe8026d",
   "metadata": {},
   "source": [
    "String widgets\n",
    "- Text를 입력"
   ]
  },
  {
   "cell_type": "code",
   "execution_count": 80,
   "id": "02dba2d4",
   "metadata": {},
   "outputs": [
    {
     "data": {
      "text/plain": [
       "b'\\xec\\x95\\x88\\xeb\\x85\\x95'"
      ]
     },
     "execution_count": 80,
     "metadata": {},
     "output_type": "execute_result"
    }
   ],
   "source": [
    "asd = '안녕'\n",
    "asd = asd.encode('utf-8')\n",
    "asd='안녕'\n",
    "asd.encode()"
   ]
  },
  {
   "cell_type": "code",
   "execution_count": 68,
   "id": "e706a1d4",
   "metadata": {},
   "outputs": [
    {
     "data": {
      "application/vnd.jupyter.widget-view+json": {
       "model_id": "15d04912c5914ca58639a6b56a2ee897",
       "version_major": 2,
       "version_minor": 0
      },
      "text/plain": [
       "Text(value='안녕', description='String : ', placeholder='Type something')"
      ]
     },
     "metadata": {},
     "output_type": "display_data"
    }
   ],
   "source": [
    "widgets.Text(\n",
    "    value = asd,\n",
    "    placeholder= 'Type something' ,\n",
    "    description  = 'String : ')"
   ]
  },
  {
   "cell_type": "markdown",
   "id": "adaf7e6b",
   "metadata": {},
   "source": [
    "#### Unicode\n",
    "TraitError: Could not decode b'\\xec\\x95\\x88\\xeb\\x85\\x95' for unicode trait 'value' of a Text instance.\n",
    "\n",
    "Unicode 를 text로 변환은 안됨\n",
    "\n",
    "#### 바이트객체(ASCII 코드)\n",
    "\n",
    "얘는 또 됨 .신기방기\n",
    "\n",
    "ex)\n",
    "\n",
    "asd= '안녕'\n",
    "asd = asd.encode()\n"
   ]
  },
  {
   "cell_type": "code",
   "execution_count": 74,
   "id": "0118112b",
   "metadata": {},
   "outputs": [
    {
     "data": {
      "application/vnd.jupyter.widget-view+json": {
       "model_id": "b94bad97116c470a9e4c935c5bfde9f4",
       "version_major": 2,
       "version_minor": 0
      },
      "text/plain": [
       "BoundedIntText(value=7, description='Teext : ', max=20, step=3)"
      ]
     },
     "metadata": {},
     "output_type": "display_data"
    }
   ],
   "source": [
    "bounded_widget = widgets.BoundedIntText(\n",
    "    value = 7,\n",
    "    min = 0,\n",
    "    max = 20 ,\n",
    "    step = 3,\n",
    "    description = 'Teext : ' ,\n",
    "    disabled= False\n",
    "    )\n",
    "\n",
    "display(bounded_widget)"
   ]
  },
  {
   "cell_type": "markdown",
   "id": "f8d2f01a",
   "metadata": {},
   "source": [
    "#### step의 기능\n",
    "오른쪽에 화살표가 있음\n",
    "그 step만큼 증가함\n",
    "\n",
    "초기값을 step * n 에 해당하는 숫자가 아니면 첫 증가시 step*n에 맞춰줌\n",
    "\n",
    "ex)\n",
    "7 -> 9\n",
    "7 -> 6\n",
    "\n"
   ]
  },
  {
   "cell_type": "markdown",
   "id": "63b6986a",
   "metadata": {},
   "source": [
    "### String widgets\n",
    "- text를 입력가능\n",
    "- Text, Textarea , Password\n"
   ]
  },
  {
   "cell_type": "code",
   "execution_count": 90,
   "id": "75db2f08",
   "metadata": {},
   "outputs": [
    {
     "data": {
      "text/plain": [
       "b'hello'"
      ]
     },
     "execution_count": 90,
     "metadata": {},
     "output_type": "execute_result"
    }
   ],
   "source": [
    "asd= '하이이'\n",
    "asd = 'hello'.encode()\n",
    "asd"
   ]
  },
  {
   "cell_type": "code",
   "execution_count": 91,
   "id": "8435bec7",
   "metadata": {},
   "outputs": [
    {
     "data": {
      "application/vnd.jupyter.widget-view+json": {
       "model_id": "f94642bdb1e74510ab2cd45ec4a752c0",
       "version_major": 2,
       "version_minor": 0
      },
      "text/plain": [
       "Text(value='hello', description='String : ', placeholder='Type something')"
      ]
     },
     "metadata": {},
     "output_type": "display_data"
    }
   ],
   "source": [
    "widgets.Text(\n",
    "    value = asd ,\n",
    "    placeholder= 'Type something' ,\n",
    "    description = 'String : ')"
   ]
  },
  {
   "cell_type": "markdown",
   "id": "59c5ccb1",
   "metadata": {},
   "source": [
    "Unicode 안됨\n",
    "\n",
    "한국어의 경우\n",
    ".encode() default값이 unicode임 처음암"
   ]
  },
  {
   "cell_type": "code",
   "execution_count": 94,
   "id": "b57eb112",
   "metadata": {},
   "outputs": [
    {
     "data": {
      "application/vnd.jupyter.widget-view+json": {
       "model_id": "f1b06751b7de41bc8d5f0d7f36cb4e57",
       "version_major": 2,
       "version_minor": 0
      },
      "text/plain": [
       "Textarea(value='Hello World', description='String', placeholder='Type something')"
      ]
     },
     "metadata": {},
     "output_type": "display_data"
    }
   ],
   "source": [
    "widgets.Textarea(\n",
    "    value = \"Hello World\" ,\n",
    "    placeholder='Type something',\n",
    "    description = 'String')"
   ]
  },
  {
   "cell_type": "code",
   "execution_count": 95,
   "id": "c195ca02",
   "metadata": {},
   "outputs": [
    {
     "data": {
      "application/vnd.jupyter.widget-view+json": {
       "model_id": "dc790d2ba1e74b83bdcb27dc5db66534",
       "version_major": 2,
       "version_minor": 0
      },
      "text/plain": [
       "Password(description='Password', placeholder='Enddter password')"
      ]
     },
     "metadata": {},
     "output_type": "display_data"
    }
   ],
   "source": [
    "widgets.Password(\n",
    "    value='password' , \n",
    "    placeholder='Enddter password',\n",
    "    description = 'Password')"
   ]
  },
  {
   "cell_type": "markdown",
   "id": "12fa7691",
   "metadata": {},
   "source": [
    "### Boolean widgets\n"
   ]
  },
  {
   "cell_type": "markdown",
   "id": "777790b9",
   "metadata": {},
   "source": [
    "Bytes(0), Bytes(1)은 안됨\n",
    "0,1,True,False는 됨"
   ]
  },
  {
   "cell_type": "code",
   "execution_count": 101,
   "id": "d9c833e1",
   "metadata": {},
   "outputs": [
    {
     "data": {
      "application/vnd.jupyter.widget-view+json": {
       "model_id": "63147700b97e48b8903c913afd58a7d2",
       "version_major": 2,
       "version_minor": 0
      },
      "text/plain": [
       "ToggleButton(value=True, description='Click me', icon='check', tooltip='Description')"
      ]
     },
     "metadata": {},
     "output_type": "display_data"
    }
   ],
   "source": [
    "widgets.ToggleButton(\n",
    "    value=1,\n",
    "    description= 'Click me' ,\n",
    "    button_style= '' ,\n",
    "    tooltip='Description' ,\n",
    "    icon ='check')"
   ]
  },
  {
   "cell_type": "markdown",
   "id": "cd81bfab",
   "metadata": {},
   "source": [
    "True,False 뿐만 아니라, 0,1도 가능\n",
    "\n",
    "이거외엔 안되는듯\n",
    "\n",
    "b'0' , b'1'은 안됨"
   ]
  },
  {
   "cell_type": "code",
   "execution_count": 126,
   "id": "22235289",
   "metadata": {},
   "outputs": [
    {
     "data": {
      "application/vnd.jupyter.widget-view+json": {
       "model_id": "aafae2e9296e4cde899e8eb2f861db2c",
       "version_major": 2,
       "version_minor": 0
      },
      "text/plain": [
       "ToggleButton(value=False, button_style='success', description='Clikc me(info)', icon='bath', tooltip='Descripo…"
      ]
     },
     "metadata": {},
     "output_type": "display_data"
    }
   ],
   "source": [
    "widgets.ToggleButton(\n",
    "    value =False ,\n",
    "    description='Clikc me(info)' ,\n",
    "    button_style = 'success',\n",
    "    tooltip = 'Descripon' ,\n",
    "    icon = 'bath')"
   ]
  },
  {
   "cell_type": "code",
   "execution_count": 123,
   "id": "93f9664a",
   "metadata": {},
   "outputs": [
    {
     "data": {
      "application/vnd.jupyter.widget-view+json": {
       "model_id": "497c82b6891a4c6f8bf4410a899c253d",
       "version_major": 2,
       "version_minor": 0
      },
      "text/plain": [
       "ToggleButton(value=False, description='Click me (danger)', icon='at', tooltip='Description')"
      ]
     },
     "metadata": {},
     "output_type": "display_data"
    }
   ],
   "source": [
    "widgets.ToggleButton(\n",
    "    value = False,\n",
    "    description = 'Click me (danger)' ,\n",
    "    button_stype = 'danger',\n",
    "    tooltip ='Description' ,\n",
    "    icon = 'at')"
   ]
  },
  {
   "cell_type": "code",
   "execution_count": 124,
   "id": "02764c3e",
   "metadata": {},
   "outputs": [
    {
     "data": {
      "application/vnd.jupyter.widget-view+json": {
       "model_id": "0fc171e3eac94ac1967ef457947a0160",
       "version_major": 2,
       "version_minor": 0
      },
      "text/plain": [
       "ToggleButton(value=False, description='Click me (success)', icon='battery-3', tooltip='Description')"
      ]
     },
     "metadata": {},
     "output_type": "display_data"
    }
   ],
   "source": [
    "widgets.ToggleButton(\n",
    "    value = False,\n",
    "    description = 'Click me (success)' ,\n",
    "    button_stype = 'success' ,\n",
    "    tooltip = 'Description' ,\n",
    "    icon='battery-3')"
   ]
  },
  {
   "cell_type": "markdown",
   "id": "542f89d9",
   "metadata": {},
   "source": [
    "widgets의 button이 이전 셀의 출력을 그대로 따라감\n",
    "처음부터 잘못입력하면 에러\n",
    "\n",
    "TraitError: The 'button_style' trait of a ToggleButton instance expected any of ['primary', 'success', 'info', 'warning', 'danger', ''] (case-insensitive), not the str 'sus'.\n",
    "\n",
    "success : 초록색\n",
    "danger : 빨간색\n",
    "info : 회색"
   ]
  },
  {
   "cell_type": "code",
   "execution_count": 118,
   "id": "20e0adc4",
   "metadata": {},
   "outputs": [
    {
     "data": {
      "application/vnd.jupyter.widget-view+json": {
       "model_id": "c56d75d432264760a3f8b2517d193f4f",
       "version_major": 2,
       "version_minor": 0
      },
      "text/plain": [
       "ToggleButton(value=False, button_style='success', description='Clikc me(info)', icon='bath', tooltip='Descript…"
      ]
     },
     "metadata": {},
     "output_type": "display_data"
    }
   ],
   "source": [
    "widgets.ToggleButton(\n",
    "    value =False ,\n",
    "    description='Clikc me(info)' ,\n",
    "    button_style = 'success',\n",
    "    tooltip = 'Description' ,\n",
    "    icon = 'bath')"
   ]
  },
  {
   "cell_type": "code",
   "execution_count": 127,
   "id": "b7904b55",
   "metadata": {},
   "outputs": [
    {
     "data": {
      "application/vnd.jupyter.widget-view+json": {
       "model_id": "ca1bd2b2f97b4de8b4b82f635e42a609",
       "version_major": 2,
       "version_minor": 0
      },
      "text/plain": [
       "Checkbox(value=False, description='Check me', indent=False)"
      ]
     },
     "metadata": {},
     "output_type": "display_data"
    }
   ],
   "source": [
    "widgets.Checkbox(\n",
    "    value = False,\n",
    "    description = 'Check me' ,\n",
    "    indent =False)"
   ]
  },
  {
   "cell_type": "code",
   "execution_count": 133,
   "id": "d3709ad0",
   "metadata": {
    "collapsed": true,
    "jupyter": {
     "outputs_hidden": true
    }
   },
   "outputs": [
    {
     "ename": "TraitError",
     "evalue": "The 'value' trait of a Checkbox instance expected a boolean, not the bytes b'\\x01'.",
     "output_type": "error",
     "traceback": [
      "\u001b[0;31m---------------------------------------------------------------------------\u001b[0m",
      "\u001b[0;31mTraitError\u001b[0m                                Traceback (most recent call last)",
      "\u001b[0;32m/tmp/ipykernel_2628/3420787596.py\u001b[0m in \u001b[0;36m<module>\u001b[0;34m\u001b[0m\n\u001b[1;32m      2\u001b[0m     \u001b[0mvalue\u001b[0m \u001b[0;34m=\u001b[0m \u001b[0mbytes\u001b[0m\u001b[0;34m(\u001b[0m\u001b[0;34m[\u001b[0m\u001b[0;36m1\u001b[0m\u001b[0;34m]\u001b[0m\u001b[0;34m)\u001b[0m\u001b[0;34m,\u001b[0m\u001b[0;34m\u001b[0m\u001b[0;34m\u001b[0m\u001b[0m\n\u001b[1;32m      3\u001b[0m     \u001b[0mdescription\u001b[0m\u001b[0;34m=\u001b[0m \u001b[0;34m'Check me'\u001b[0m \u001b[0;34m,\u001b[0m\u001b[0;34m\u001b[0m\u001b[0;34m\u001b[0m\u001b[0m\n\u001b[0;32m----> 4\u001b[0;31m     indent =True)\n\u001b[0m",
      "\u001b[0;32m/opt/conda/envs/lightweight/lib/python3.7/site-packages/ipywidgets/widgets/widget_bool.py\u001b[0m in \u001b[0;36m__init__\u001b[0;34m(self, value, **kwargs)\u001b[0m\n\u001b[1;32m     22\u001b[0m         \u001b[0;32mif\u001b[0m \u001b[0mvalue\u001b[0m \u001b[0;32mis\u001b[0m \u001b[0;32mnot\u001b[0m \u001b[0;32mNone\u001b[0m\u001b[0;34m:\u001b[0m\u001b[0;34m\u001b[0m\u001b[0;34m\u001b[0m\u001b[0m\n\u001b[1;32m     23\u001b[0m             \u001b[0mkwargs\u001b[0m\u001b[0;34m[\u001b[0m\u001b[0;34m'value'\u001b[0m\u001b[0;34m]\u001b[0m \u001b[0;34m=\u001b[0m \u001b[0mvalue\u001b[0m\u001b[0;34m\u001b[0m\u001b[0;34m\u001b[0m\u001b[0m\n\u001b[0;32m---> 24\u001b[0;31m         \u001b[0msuper\u001b[0m\u001b[0;34m(\u001b[0m\u001b[0m_Bool\u001b[0m\u001b[0;34m,\u001b[0m \u001b[0mself\u001b[0m\u001b[0;34m)\u001b[0m\u001b[0;34m.\u001b[0m\u001b[0m__init__\u001b[0m\u001b[0;34m(\u001b[0m\u001b[0;34m**\u001b[0m\u001b[0mkwargs\u001b[0m\u001b[0;34m)\u001b[0m\u001b[0;34m\u001b[0m\u001b[0;34m\u001b[0m\u001b[0m\n\u001b[0m\u001b[1;32m     25\u001b[0m \u001b[0;34m\u001b[0m\u001b[0m\n\u001b[1;32m     26\u001b[0m     \u001b[0m_model_name\u001b[0m \u001b[0;34m=\u001b[0m \u001b[0mUnicode\u001b[0m\u001b[0;34m(\u001b[0m\u001b[0;34m'BoolModel'\u001b[0m\u001b[0;34m)\u001b[0m\u001b[0;34m.\u001b[0m\u001b[0mtag\u001b[0m\u001b[0;34m(\u001b[0m\u001b[0msync\u001b[0m\u001b[0;34m=\u001b[0m\u001b[0;32mTrue\u001b[0m\u001b[0;34m)\u001b[0m\u001b[0;34m\u001b[0m\u001b[0;34m\u001b[0m\u001b[0m\n",
      "\u001b[0;32m/opt/conda/envs/lightweight/lib/python3.7/site-packages/ipywidgets/widgets/widget.py\u001b[0m in \u001b[0;36m__init__\u001b[0;34m(self, **kwargs)\u001b[0m\n\u001b[1;32m    410\u001b[0m         \u001b[0;34m\"\"\"Public constructor\"\"\"\u001b[0m\u001b[0;34m\u001b[0m\u001b[0;34m\u001b[0m\u001b[0m\n\u001b[1;32m    411\u001b[0m         \u001b[0mself\u001b[0m\u001b[0;34m.\u001b[0m\u001b[0m_model_id\u001b[0m \u001b[0;34m=\u001b[0m \u001b[0mkwargs\u001b[0m\u001b[0;34m.\u001b[0m\u001b[0mpop\u001b[0m\u001b[0;34m(\u001b[0m\u001b[0;34m'model_id'\u001b[0m\u001b[0;34m,\u001b[0m \u001b[0;32mNone\u001b[0m\u001b[0;34m)\u001b[0m\u001b[0;34m\u001b[0m\u001b[0;34m\u001b[0m\u001b[0m\n\u001b[0;32m--> 412\u001b[0;31m         \u001b[0msuper\u001b[0m\u001b[0;34m(\u001b[0m\u001b[0mWidget\u001b[0m\u001b[0;34m,\u001b[0m \u001b[0mself\u001b[0m\u001b[0;34m)\u001b[0m\u001b[0;34m.\u001b[0m\u001b[0m__init__\u001b[0m\u001b[0;34m(\u001b[0m\u001b[0;34m**\u001b[0m\u001b[0mkwargs\u001b[0m\u001b[0;34m)\u001b[0m\u001b[0;34m\u001b[0m\u001b[0;34m\u001b[0m\u001b[0m\n\u001b[0m\u001b[1;32m    413\u001b[0m \u001b[0;34m\u001b[0m\u001b[0m\n\u001b[1;32m    414\u001b[0m         \u001b[0mWidget\u001b[0m\u001b[0;34m.\u001b[0m\u001b[0m_call_widget_constructed\u001b[0m\u001b[0;34m(\u001b[0m\u001b[0mself\u001b[0m\u001b[0;34m)\u001b[0m\u001b[0;34m\u001b[0m\u001b[0;34m\u001b[0m\u001b[0m\n",
      "\u001b[0;32m/opt/conda/envs/lightweight/lib/python3.7/site-packages/traitlets/traitlets.py\u001b[0m in \u001b[0;36m__init__\u001b[0;34m(self, *args, **kwargs)\u001b[0m\n\u001b[1;32m   1077\u001b[0m             \u001b[0;32mfor\u001b[0m \u001b[0mkey\u001b[0m\u001b[0;34m,\u001b[0m \u001b[0mvalue\u001b[0m \u001b[0;32min\u001b[0m \u001b[0mkwargs\u001b[0m\u001b[0;34m.\u001b[0m\u001b[0mitems\u001b[0m\u001b[0;34m(\u001b[0m\u001b[0;34m)\u001b[0m\u001b[0;34m:\u001b[0m\u001b[0;34m\u001b[0m\u001b[0;34m\u001b[0m\u001b[0m\n\u001b[1;32m   1078\u001b[0m                 \u001b[0;32mif\u001b[0m \u001b[0mself\u001b[0m\u001b[0;34m.\u001b[0m\u001b[0mhas_trait\u001b[0m\u001b[0;34m(\u001b[0m\u001b[0mkey\u001b[0m\u001b[0;34m)\u001b[0m\u001b[0;34m:\u001b[0m\u001b[0;34m\u001b[0m\u001b[0;34m\u001b[0m\u001b[0m\n\u001b[0;32m-> 1079\u001b[0;31m                     \u001b[0msetattr\u001b[0m\u001b[0;34m(\u001b[0m\u001b[0mself\u001b[0m\u001b[0;34m,\u001b[0m \u001b[0mkey\u001b[0m\u001b[0;34m,\u001b[0m \u001b[0mvalue\u001b[0m\u001b[0;34m)\u001b[0m\u001b[0;34m\u001b[0m\u001b[0;34m\u001b[0m\u001b[0m\n\u001b[0m\u001b[1;32m   1080\u001b[0m                 \u001b[0;32melse\u001b[0m\u001b[0;34m:\u001b[0m\u001b[0;34m\u001b[0m\u001b[0;34m\u001b[0m\u001b[0m\n\u001b[1;32m   1081\u001b[0m                     \u001b[0;31m# passthrough args that don't set traits to super\u001b[0m\u001b[0;34m\u001b[0m\u001b[0;34m\u001b[0m\u001b[0;34m\u001b[0m\u001b[0m\n",
      "\u001b[0;32m/opt/conda/envs/lightweight/lib/python3.7/site-packages/traitlets/traitlets.py\u001b[0m in \u001b[0;36m__set__\u001b[0;34m(self, obj, value)\u001b[0m\n\u001b[1;32m    604\u001b[0m             \u001b[0;32mraise\u001b[0m \u001b[0mTraitError\u001b[0m\u001b[0;34m(\u001b[0m\u001b[0;34m'The \"%s\" trait is read-only.'\u001b[0m \u001b[0;34m%\u001b[0m \u001b[0mself\u001b[0m\u001b[0;34m.\u001b[0m\u001b[0mname\u001b[0m\u001b[0;34m)\u001b[0m\u001b[0;34m\u001b[0m\u001b[0;34m\u001b[0m\u001b[0m\n\u001b[1;32m    605\u001b[0m         \u001b[0;32melse\u001b[0m\u001b[0;34m:\u001b[0m\u001b[0;34m\u001b[0m\u001b[0;34m\u001b[0m\u001b[0m\n\u001b[0;32m--> 606\u001b[0;31m             \u001b[0mself\u001b[0m\u001b[0;34m.\u001b[0m\u001b[0mset\u001b[0m\u001b[0;34m(\u001b[0m\u001b[0mobj\u001b[0m\u001b[0;34m,\u001b[0m \u001b[0mvalue\u001b[0m\u001b[0;34m)\u001b[0m\u001b[0;34m\u001b[0m\u001b[0;34m\u001b[0m\u001b[0m\n\u001b[0m\u001b[1;32m    607\u001b[0m \u001b[0;34m\u001b[0m\u001b[0m\n\u001b[1;32m    608\u001b[0m     \u001b[0;32mdef\u001b[0m \u001b[0m_validate\u001b[0m\u001b[0;34m(\u001b[0m\u001b[0mself\u001b[0m\u001b[0;34m,\u001b[0m \u001b[0mobj\u001b[0m\u001b[0;34m,\u001b[0m \u001b[0mvalue\u001b[0m\u001b[0;34m)\u001b[0m\u001b[0;34m:\u001b[0m\u001b[0;34m\u001b[0m\u001b[0;34m\u001b[0m\u001b[0m\n",
      "\u001b[0;32m/opt/conda/envs/lightweight/lib/python3.7/site-packages/traitlets/traitlets.py\u001b[0m in \u001b[0;36mset\u001b[0;34m(self, obj, value)\u001b[0m\n\u001b[1;32m    578\u001b[0m \u001b[0;34m\u001b[0m\u001b[0m\n\u001b[1;32m    579\u001b[0m     \u001b[0;32mdef\u001b[0m \u001b[0mset\u001b[0m\u001b[0;34m(\u001b[0m\u001b[0mself\u001b[0m\u001b[0;34m,\u001b[0m \u001b[0mobj\u001b[0m\u001b[0;34m,\u001b[0m \u001b[0mvalue\u001b[0m\u001b[0;34m)\u001b[0m\u001b[0;34m:\u001b[0m\u001b[0;34m\u001b[0m\u001b[0;34m\u001b[0m\u001b[0m\n\u001b[0;32m--> 580\u001b[0;31m         \u001b[0mnew_value\u001b[0m \u001b[0;34m=\u001b[0m \u001b[0mself\u001b[0m\u001b[0;34m.\u001b[0m\u001b[0m_validate\u001b[0m\u001b[0;34m(\u001b[0m\u001b[0mobj\u001b[0m\u001b[0;34m,\u001b[0m \u001b[0mvalue\u001b[0m\u001b[0;34m)\u001b[0m\u001b[0;34m\u001b[0m\u001b[0;34m\u001b[0m\u001b[0m\n\u001b[0m\u001b[1;32m    581\u001b[0m         \u001b[0;32mtry\u001b[0m\u001b[0;34m:\u001b[0m\u001b[0;34m\u001b[0m\u001b[0;34m\u001b[0m\u001b[0m\n\u001b[1;32m    582\u001b[0m             \u001b[0mold_value\u001b[0m \u001b[0;34m=\u001b[0m \u001b[0mobj\u001b[0m\u001b[0;34m.\u001b[0m\u001b[0m_trait_values\u001b[0m\u001b[0;34m[\u001b[0m\u001b[0mself\u001b[0m\u001b[0;34m.\u001b[0m\u001b[0mname\u001b[0m\u001b[0;34m]\u001b[0m\u001b[0;34m\u001b[0m\u001b[0;34m\u001b[0m\u001b[0m\n",
      "\u001b[0;32m/opt/conda/envs/lightweight/lib/python3.7/site-packages/traitlets/traitlets.py\u001b[0m in \u001b[0;36m_validate\u001b[0;34m(self, obj, value)\u001b[0m\n\u001b[1;32m    610\u001b[0m             \u001b[0;32mreturn\u001b[0m \u001b[0mvalue\u001b[0m\u001b[0;34m\u001b[0m\u001b[0;34m\u001b[0m\u001b[0m\n\u001b[1;32m    611\u001b[0m         \u001b[0;32mif\u001b[0m \u001b[0mhasattr\u001b[0m\u001b[0;34m(\u001b[0m\u001b[0mself\u001b[0m\u001b[0;34m,\u001b[0m \u001b[0;34m'validate'\u001b[0m\u001b[0;34m)\u001b[0m\u001b[0;34m:\u001b[0m\u001b[0;34m\u001b[0m\u001b[0;34m\u001b[0m\u001b[0m\n\u001b[0;32m--> 612\u001b[0;31m             \u001b[0mvalue\u001b[0m \u001b[0;34m=\u001b[0m \u001b[0mself\u001b[0m\u001b[0;34m.\u001b[0m\u001b[0mvalidate\u001b[0m\u001b[0;34m(\u001b[0m\u001b[0mobj\u001b[0m\u001b[0;34m,\u001b[0m \u001b[0mvalue\u001b[0m\u001b[0;34m)\u001b[0m\u001b[0;34m\u001b[0m\u001b[0;34m\u001b[0m\u001b[0m\n\u001b[0m\u001b[1;32m    613\u001b[0m         \u001b[0;32mif\u001b[0m \u001b[0mobj\u001b[0m\u001b[0;34m.\u001b[0m\u001b[0m_cross_validation_lock\u001b[0m \u001b[0;32mis\u001b[0m \u001b[0;32mFalse\u001b[0m\u001b[0;34m:\u001b[0m\u001b[0;34m\u001b[0m\u001b[0;34m\u001b[0m\u001b[0m\n\u001b[1;32m    614\u001b[0m             \u001b[0mvalue\u001b[0m \u001b[0;34m=\u001b[0m \u001b[0mself\u001b[0m\u001b[0;34m.\u001b[0m\u001b[0m_cross_validate\u001b[0m\u001b[0;34m(\u001b[0m\u001b[0mobj\u001b[0m\u001b[0;34m,\u001b[0m \u001b[0mvalue\u001b[0m\u001b[0;34m)\u001b[0m\u001b[0;34m\u001b[0m\u001b[0;34m\u001b[0m\u001b[0m\n",
      "\u001b[0;32m/opt/conda/envs/lightweight/lib/python3.7/site-packages/traitlets/traitlets.py\u001b[0m in \u001b[0;36mvalidate\u001b[0;34m(self, obj, value)\u001b[0m\n\u001b[1;32m   2263\u001b[0m             \u001b[0;32melif\u001b[0m \u001b[0mvalue\u001b[0m \u001b[0;34m==\u001b[0m \u001b[0;36m0\u001b[0m\u001b[0;34m:\u001b[0m\u001b[0;34m\u001b[0m\u001b[0;34m\u001b[0m\u001b[0m\n\u001b[1;32m   2264\u001b[0m                 \u001b[0;32mreturn\u001b[0m \u001b[0;32mFalse\u001b[0m\u001b[0;34m\u001b[0m\u001b[0;34m\u001b[0m\u001b[0m\n\u001b[0;32m-> 2265\u001b[0;31m         \u001b[0mself\u001b[0m\u001b[0;34m.\u001b[0m\u001b[0merror\u001b[0m\u001b[0;34m(\u001b[0m\u001b[0mobj\u001b[0m\u001b[0;34m,\u001b[0m \u001b[0mvalue\u001b[0m\u001b[0;34m)\u001b[0m\u001b[0;34m\u001b[0m\u001b[0;34m\u001b[0m\u001b[0m\n\u001b[0m\u001b[1;32m   2266\u001b[0m \u001b[0;34m\u001b[0m\u001b[0m\n\u001b[1;32m   2267\u001b[0m     \u001b[0;32mdef\u001b[0m \u001b[0mfrom_string\u001b[0m\u001b[0;34m(\u001b[0m\u001b[0mself\u001b[0m\u001b[0;34m,\u001b[0m \u001b[0ms\u001b[0m\u001b[0;34m)\u001b[0m\u001b[0;34m:\u001b[0m\u001b[0;34m\u001b[0m\u001b[0;34m\u001b[0m\u001b[0m\n",
      "\u001b[0;32m/opt/conda/envs/lightweight/lib/python3.7/site-packages/traitlets/traitlets.py\u001b[0m in \u001b[0;36merror\u001b[0;34m(self, obj, value, error, info)\u001b[0m\n\u001b[1;32m    690\u001b[0m                     e = \"The '%s' trait expected %s, not %s.\" % (\n\u001b[1;32m    691\u001b[0m                         self.name, self.info(), describe(\"the\", value))\n\u001b[0;32m--> 692\u001b[0;31m                 \u001b[0;32mraise\u001b[0m \u001b[0mTraitError\u001b[0m\u001b[0;34m(\u001b[0m\u001b[0me\u001b[0m\u001b[0;34m)\u001b[0m\u001b[0;34m\u001b[0m\u001b[0;34m\u001b[0m\u001b[0m\n\u001b[0m\u001b[1;32m    693\u001b[0m \u001b[0;34m\u001b[0m\u001b[0m\n\u001b[1;32m    694\u001b[0m     \u001b[0;32mdef\u001b[0m \u001b[0mget_metadata\u001b[0m\u001b[0;34m(\u001b[0m\u001b[0mself\u001b[0m\u001b[0;34m,\u001b[0m \u001b[0mkey\u001b[0m\u001b[0;34m,\u001b[0m \u001b[0mdefault\u001b[0m\u001b[0;34m=\u001b[0m\u001b[0;32mNone\u001b[0m\u001b[0;34m)\u001b[0m\u001b[0;34m:\u001b[0m\u001b[0;34m\u001b[0m\u001b[0;34m\u001b[0m\u001b[0m\n",
      "\u001b[0;31mTraitError\u001b[0m: The 'value' trait of a Checkbox instance expected a boolean, not the bytes b'\\x01'."
     ]
    }
   ],
   "source": [
    "widgets.Checkbox(\n",
    "    value = bytes([1]),\n",
    "    description= 'Check me' ,\n",
    "    indent =True)"
   ]
  },
  {
   "cell_type": "markdown",
   "id": "eee8115f",
   "metadata": {},
   "source": [
    "bytes(0), bytes(1) 은안됨"
   ]
  },
  {
   "cell_type": "markdown",
   "id": "29668b0c",
   "metadata": {},
   "source": [
    "### Selection widgets\n",
    "- 선"
   ]
  },
  {
   "cell_type": "code",
   "execution_count": 138,
   "id": "3a724d49",
   "metadata": {},
   "outputs": [
    {
     "data": {
      "application/vnd.jupyter.widget-view+json": {
       "model_id": "189a7fe8742d4332b6a839f8b8e60846",
       "version_major": 2,
       "version_minor": 0
      },
      "text/plain": [
       "Dropdown(description='Number', index=1, options=('1', b'\\xec\\x95\\x88\\xeb\\x85\\x95', '3  '), value=b'\\xec\\x95\\x8…"
      ]
     },
     "metadata": {},
     "output_type": "display_data"
    }
   ],
   "source": [
    "widgets.Dropdown(\n",
    "    options=['1' ,  '안녕'.encode() ,'3  '] ,\n",
    "    value = '안녕'.encode(),\n",
    "    description='Number' ,\n",
    "    disabled= False,)"
   ]
  },
  {
   "cell_type": "markdown",
   "id": "76f90f88",
   "metadata": {},
   "source": [
    "value에 array에 없는 값을 넣으면 오류가 남\n",
    "\n",
    "bytes, 가능 ,\n",
    "unicode 가능"
   ]
  },
  {
   "cell_type": "code",
   "execution_count": 142,
   "id": "79e22520",
   "metadata": {},
   "outputs": [
    {
     "data": {
      "application/vnd.jupyter.widget-view+json": {
       "model_id": "18ab10a99a0b4772a55319695c58445d",
       "version_major": 2,
       "version_minor": 0
      },
      "text/plain": [
       "RadioButtons(description='Topping:', options=('pepperoni', b'\\xec\\x95\\xbc\\xec\\x95\\xbc', 'anchovies'), value='p…"
      ]
     },
     "metadata": {},
     "output_type": "display_data"
    }
   ],
   "source": [
    "widgets.RadioButtons(\n",
    "    options=['pepperoni' , '야야'.encode('utf-8') , 'anchovies'] ,\n",
    "    description='Topping:',)"
   ]
  },
  {
   "cell_type": "markdown",
   "id": "237b7cde",
   "metadata": {},
   "source": [
    "bytes, 가능 ,\n",
    "unicode 가능"
   ]
  },
  {
   "cell_type": "code",
   "execution_count": null,
   "id": "b63669aa",
   "metadata": {},
   "outputs": [],
   "source": []
  }
 ],
 "metadata": {
  "kernelspec": {
   "display_name": "Python 3 (ipykernel)",
   "language": "python",
   "name": "python3"
  },
  "language_info": {
   "codemirror_mode": {
    "name": "ipython",
    "version": 3
   },
   "file_extension": ".py",
   "mimetype": "text/x-python",
   "name": "python",
   "nbconvert_exporter": "python",
   "pygments_lexer": "ipython3",
   "version": "3.7.11"
  }
 },
 "nbformat": 4,
 "nbformat_minor": 5
}
